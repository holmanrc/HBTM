{
 "cells": [
  {
   "cell_type": "code",
   "execution_count": 1,
   "metadata": {},
   "outputs": [],
   "source": [
    "# Note that this works in the segment version with temperature dependant properties\n",
    "import numpy as np\n",
    "%matplotlib inline\n",
    "import matplotlib.pyplot as plt\n",
    "from Segment import Segment, Body, _build_testbody"
   ]
  },
  {
   "cell_type": "code",
   "execution_count": 2,
   "metadata": {},
   "outputs": [],
   "source": [
    "# temstep updating function for testing \n",
    "\n",
    "def lsp_10(pname, a, tsets):\n",
    "    def lm(body_tree, body_params):\n",
    "        base = body_tree.get_param(pname, True)\n",
    "        temp = body_tree.get_temps()\n",
    "        nprms = list(base + (a * base * (temp - tsets)))\n",
    "        return nprms\n",
    "    return lm "
   ]
  },
  {
   "cell_type": "code",
   "execution_count": 3,
   "metadata": {},
   "outputs": [],
   "source": [
    "# Now building a body out of the segments \n",
    "\n",
    "body = _build_testbody()"
   ]
  },
  {
   "cell_type": "code",
   "execution_count": 4,
   "metadata": {},
   "outputs": [
    {
     "data": {
      "text/plain": [
       "['A', 'B', 'C', 'D', 'E']"
      ]
     },
     "execution_count": 4,
     "metadata": {},
     "output_type": "execute_result"
    }
   ],
   "source": [
    "body.body_tree.get_param(\"name\")"
   ]
  },
  {
   "cell_type": "code",
   "execution_count": 5,
   "metadata": {},
   "outputs": [],
   "source": [
    "settemps = np.array([30.0, 31.0, 32.0, 33.0, 34.0])\n",
    "body.register_tree_update(\"env\", lsp_10(\"env\", 0.1, settemps))\n",
    "body.register_tree_update(\"qmet\", lsp_10(\"qmet\", -0.1, settemps))\n",
    "\n",
    "body.register_log_parameter(\"temp\", \"tree\")\n",
    "body.register_log_parameter(\"qmet\", \"tree\")\n",
    "body.register_log_parameter(\"env\", \"tree\")\n",
    "body.register_log_parameter(\"store\", \"tree\")"
   ]
  },
  {
   "cell_type": "code",
   "execution_count": 6,
   "metadata": {},
   "outputs": [],
   "source": [
    "log = body.run_constant_temp(1, 10, 10)\n",
    "tvals = np.asarray(log[\"temp\"])"
   ]
  },
  {
   "cell_type": "code",
   "execution_count": 7,
   "metadata": {},
   "outputs": [],
   "source": [
    "names = body.body_tree.get_names() "
   ]
  },
  {
   "cell_type": "code",
   "execution_count": 8,
   "metadata": {},
   "outputs": [
    {
     "data": {
      "text/plain": [
       "<matplotlib.legend.Legend at 0x7f0eb82382e8>"
      ]
     },
     "execution_count": 8,
     "metadata": {},
     "output_type": "execute_result"
    },
    {
     "data": {
      "image/png": "[encoded data removed]",
      "text/plain": [
       "<Figure size 432x288 with 1 Axes>"
      ]
     },
     "metadata": {},
     "output_type": "display_data"
    }
   ],
   "source": [
    "fig_t = plt.figure()\n",
    "ax_t = fig_t.add_subplot(111)\n",
    "for i, name in enumerate(names):\n",
    "    ax_t.plot(tvals[:,i], label=name)\n",
    "\n",
    "ax_t.legend()"
   ]
  },
  {
   "cell_type": "code",
   "execution_count": 9,
   "metadata": {},
   "outputs": [
    {
     "name": "stdout",
     "output_type": "stream",
     "text": [
      "       2.0         5.0         8.0        11.0        15.0\n",
      "       0.1         0.8         0.9         0.5        -1.4\n",
      "       0.1         0.1         0.2         0.1        -0.5\n",
      "       0.1         0.1         0.1         0.1        -0.4\n",
      "       0.1         0.1         0.1         0.1        -0.6\n",
      "       0.2         0.2         0.2         0.1        -1.1\n",
      "       0.4         0.3         0.3         0.2        -2.3\n",
      "       0.6         0.5         0.6         0.3        -6.5\n",
      "       1.3         0.7         0.8         0.6       -42.9\n",
      "      -0.5         0.6         1.0         0.8       212.3\n",
      "       0.1         0.4         0.8         1.1      -342.4\n"
     ]
    }
   ],
   "source": [
    "lstring = \"{:10.1f}  {:10.1f}  {:10.1f}  {:10.1f}  {:10.1f}\"\n",
    "for i in log[\"env\"]:\n",
    "    print(lstring.format(*i))"
   ]
  },
  {
   "cell_type": "code",
   "execution_count": 10,
   "metadata": {},
   "outputs": [
    {
     "name": "stdout",
     "output_type": "stream",
     "text": [
      "      37.0        37.0        37.0        37.0        37.0\n",
      "      20.6        22.6        23.2        23.4        23.1\n",
      "      25.2        22.8        23.8        25.0        27.4\n",
      "      31.6        27.3        27.9        29.0        32.5\n",
      "      36.7        33.7        33.9        34.8        38.2\n",
      "      37.9        37.9        38.4        39.4        42.4\n",
      "      37.0        38.0        39.4        40.8        45.4\n",
      "      35.8        36.2        38.5        40.5        52.2\n",
      "      40.5        33.6        36.7        39.5        90.3\n",
      "      16.4        30.1        33.6        37.8       -25.5\n",
      "      18.3        27.5        30.7        35.5         7.9\n"
     ]
    }
   ],
   "source": [
    "for i in log[\"temp\"]:\n",
    "    print(lstring.format(*i))"
   ]
  },
  {
   "cell_type": "code",
   "execution_count": 11,
   "metadata": {},
   "outputs": [
    {
     "name": "stdout",
     "output_type": "stream",
     "text": [
      "       3.0         6.0         9.0        12.0        16.0\n",
      "       5.8        11.0        16.9        23.5        33.5\n",
      "       8.6        20.0        30.8        42.2        55.5\n",
      "       7.2        27.5        43.3        58.9        63.8\n",
      "       2.4        20.1        35.1        48.5        36.7\n",
      "       0.5         6.3        12.5        17.5         6.1\n",
      "       0.2         1.9         3.3         3.9        -0.9\n",
      "       0.1         0.9         1.2         1.0         0.7\n",
      "      -0.0         0.7         0.6         0.3        -3.2\n",
      "      -0.0         0.7         0.5         0.2       -22.5\n",
      "      -0.0         1.0         0.6         0.1       -81.4\n"
     ]
    }
   ],
   "source": [
    "for i in log[\"qmet\"]:\n",
    "    print(lstring.format(*i))"
   ]
  },
  {
   "cell_type": "code",
   "execution_count": 12,
   "metadata": {},
   "outputs": [
    {
     "name": "stdout",
     "output_type": "stream",
     "text": [
      "       1.0         4.0         7.0        10.0        13.0\n",
      "       1.0         4.0         7.0        10.0        13.0\n",
      "       1.0         4.0         7.0        10.0        13.0\n",
      "       1.0         4.0         7.0        10.0        13.0\n",
      "       1.0         4.0         7.0        10.0        13.0\n",
      "       1.0         4.0         7.0        10.0        13.0\n",
      "       1.0         4.0         7.0        10.0        13.0\n",
      "       1.0         4.0         7.0        10.0        13.0\n",
      "       1.0         4.0         7.0        10.0        13.0\n",
      "       1.0         4.0         7.0        10.0        13.0\n",
      "       1.0         4.0         7.0        10.0        13.0\n"
     ]
    }
   ],
   "source": [
    "for i in log[\"store\"]:\n",
    "    print(lstring.format(*i))"
   ]
  },
  {
   "cell_type": "code",
   "execution_count": 13,
   "metadata": {},
   "outputs": [
    {
     "data": {
      "text/plain": [
       "array([[ 3.8, -0.1, -0.2,  0. , -0.5],\n",
       "       [-0.1,  9.1,  0. ,  0. ,  0. ],\n",
       "       [-0.2,  0. , 15.5, -0.3,  0. ],\n",
       "       [ 0. ,  0. , -0.3, 21.3,  0. ],\n",
       "       [-0.5,  0. ,  0. ,  0. , 28.5]])"
      ]
     },
     "execution_count": 13,
     "metadata": {},
     "output_type": "execute_result"
    }
   ],
   "source": [
    "_build_testbody().body_tree.build_temp_matrix(1)"
   ]
  },
  {
   "cell_type": "code",
   "execution_count": null,
   "metadata": {},
   "outputs": [],
   "source": []
  }
 ],
 "metadata": {
  "kernelspec": {
   "display_name": "Python 3",
   "language": "python",
   "name": "python3"
  },
  "language_info": {
   "codemirror_mode": {
    "name": "ipython",
    "version": 3
   },
   "file_extension": ".py",
   "mimetype": "text/x-python",
   "name": "python",
   "nbconvert_exporter": "python",
   "pygments_lexer": "ipython3",
   "version": "3.6.5"
  }
 },
 "nbformat": 4,
 "nbformat_minor": 2
}
