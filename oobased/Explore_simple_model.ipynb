{
 "cells": [
  {
   "cell_type": "markdown",
   "metadata": {},
   "source": [
    "# Model Description \n",
    "\n",
    "I'm going to build a small model of the human body that uses a lummped capacitence to\n",
    "deterimne the temperature of the human body.\n",
    "\n",
    "The model I am going to use is going to be composed of nodes that are going to be\n",
    "coupled together as a set of energy balances, with a number of parameters. The segemnts\n",
    "(each of which will have an energy balance equation associated with it) are going to be\n",
    "the head, torso, and left and right upper arms, lower arms, hands, thighs, lower legs, \n",
    "and feet. Each segment will be one node\n",
    "\n",
    "For each of the segments, the energy balance equation is going toe be of the form:  \n",
    "$q_{sh}+q_{met}+q_{bl,in}=q_{bl,out}+q_{env}+q_{store}$\n"
   ]
  },
  {
   "cell_type": "code",
   "execution_count": 2,
   "metadata": {
    "collapsed": true
   },
   "outputs": [],
   "source": [
    "import numpy as np\n",
    "%matplotlib inline\n",
    "import matplotlib.pyplot as plt"
   ]
  },
  {
   "cell_type": "markdown",
   "metadata": {},
   "source": [
    "## Model terms\n",
    "\n",
    "1. $q_{sh}=Constant$, for most of our models (as a base) this will be 0\n",
    "2. $q_{met}= Constant$, constant for our steady state model\n",
    "3. $q_{in}=\\dot{m}C_p(T-T_{s-1})$\n",
    "4. $q_{out}=\\dot{m}C_p(T_{s+1}-T)$\n",
    "5. $q_{env}=(T-T_{inf})/R$\n",
    "6. $q_{store}=\\rho{}Vc(T-T_{old})/\\Delta{}T$\n",
    "\n",
    "*Note: I am going to have to make sure that all of these equations are either\n",
    "in terms of energy (so multiplied by a time step in some way) or in terms of the \n",
    "heat flux at each time step*"
   ]
  },
  {
   "cell_type": "markdown",
   "metadata": {},
   "source": [
    "## Terms to Matrix\n",
    "\n",
    "Each of the above terms is able to be recast into a set \n",
    "of equations of the form:  \n",
    "$\\sum(C_{m,j}+C_{m,j}+C_{m,j})T_i=C$  \n",
    "such that for each node in the system, the heat flow into and\n",
    "out of the node (and stored in the node) is balanced. When the system\n",
    "has reached equalibrium, this should be stable with time. The $C$ values (from all the\n",
    "temperature independant terms)\n",
    "\n",
    "This means that when building a matrix, any set of effects \n",
    "can be seen as adding parameters to the matrix such that the temperatures\n",
    "from these paramters enter the matrix in a rational way. In the optimal case\n",
    "The matrix will be chosen to be some form that can be solved easily. However since\n",
    "the system is small, this is not important"
   ]
  },
  {
   "cell_type": "markdown",
   "metadata": {},
   "source": [
    "## Node construction\n",
    "\n",
    "Each node is going to have a temperature, an a set of (posibly time and temperature depened parameters, which will be\n",
    "associated with temperature indexes, perhaps (as a matter of location in a tree))\n",
    "\n",
    "## Container\n",
    "\n",
    "Contains a tree that holds all the body parts and then can construct the thermal conductivity matrix\n",
    "\n",
    "# First Pass \n",
    "\n",
    "For a first pass I am going to manual build the thermal conductivity matrix:\n",
    "\n",
    "\n",
    "## The matrix \n",
    "\n",
    "The matrix equation is \n",
    "\n",
    "$A*t=0$ \n",
    "where A is the matrix for the energy balance equations, and t is a vector the temperatures of the form\n",
    "\n",
    "1. Head\n",
    "2. Body\n",
    "3. Left upper arm\n",
    "4. Left lower arm\n",
    "5. Left hand\n",
    "6. Right upper arm\n",
    "7. Right lower arm\n",
    "8. Right hand\n",
    "9. Left upper leg\n",
    "10. Left lower leg\n",
    "11. Left foot\n",
    "12. Right upper leg\n",
    "13. Right lower leg\n",
    "14. Right foot \n",
    "\n",
    "*This is the same setup as the tanabe model, and thus we should have a setup with a \n",
    "14 x 14 Matrix, with each row being for a single node*"
   ]
  },
  {
   "cell_type": "code",
   "execution_count": 24,
   "metadata": {},
   "outputs": [],
   "source": [
    "bmm = np.zeros((14,14))"
   ]
  },
  {
   "cell_type": "code",
   "execution_count": 25,
   "metadata": {},
   "outputs": [],
   "source": [
    "#All the coefficents\n",
    "# first, the storage coefficents, which will end up being of the\n",
    "# form ρVc\n",
    "\n",
    "# I am going to make these strings to debug the matrix as a first pass\n",
    "\n",
    "eta_0 = 1\n",
    "eta_1, eta_2, eta_3, eta_4 = 1, 2, 3, 4\n",
    "eta_5, eta_6, eta_7, eta_8 = 1, 2, 3, 4\n",
    "eta_9, eta_10, eta_11, eta_12 = 1, 2, 3, 4\n",
    "eta_13 = 1\n"
   ]
  },
  {
   "cell_type": "code",
   "execution_count": 26,
   "metadata": {
    "collapsed": true
   },
   "outputs": [],
   "source": [
    "# Enviroment Coefficents\n",
    "\n",
    "k_0 = 1\n",
    "k_1, k_2, k_3, k_4 = 1, 2, 3, 4\n",
    "k_5, k_6, k_7, k_8 = 1, 2, 3, 4\n",
    "k_9, k_10, k_11, k_12 = 1, 2, 3, 4\n",
    "k_13 = 1\n"
   ]
  },
  {
   "cell_type": "code",
   "execution_count": 27,
   "metadata": {
    "collapsed": true
   },
   "outputs": [],
   "source": [
    "# metabolic rate Coefficents\n",
    "\n",
    "q_0 = 1\n",
    "q_1, q_2, q_3, q_4 = 1, 2, 3, 4\n",
    "q_5, q_6, q_7, q_8 = 1, 2, 3, 4\n",
    "q_9, q_10, q_11, q_12 = 1, 2, 3, 4\n",
    "q_13 = 1\n"
   ]
  },
  {
   "cell_type": "code",
   "execution_count": 28,
   "metadata": {},
   "outputs": [],
   "source": [
    "# blood coefficents\n",
    "\n",
    "xi_01, xi_21, xi_51, xi_81, xi_11_1 = 1, 2, 3, 4, 5\n",
    "xi_32, xi_43 = 1, 2\n",
    "xi_65, xi_76 = 1, 2\n",
    "xi_98, xi_10_9 = 1, 2\n",
    "xi_12_11, xi_13_12 = 1, 2\n"
   ]
  },
  {
   "cell_type": "code",
   "execution_count": 29,
   "metadata": {
    "collapsed": true
   },
   "outputs": [],
   "source": [
    "dt = 0.1"
   ]
  },
  {
   "cell_type": "code",
   "execution_count": 30,
   "metadata": {},
   "outputs": [],
   "source": [
    "### And build the matrix\n",
    "\n",
    "bmm[0,0] = eta_0 / dt - xi_01 + k_0 \n",
    "bmm[1,0], bmm[0,1] = xi_01, xi_01\n",
    "bmm[1,1] = eta_1 / dt - xi_01 - xi_21 - xi_51 - xi_81 - xi_11_1 + k_1\n",
    "bmm[2,1], bmm[1,2] = xi_21, xi_21\n",
    "bmm[5,1], bmm[1,5] = xi_51, xi_51\n",
    "bmm[8,1], bmm[1,8] = xi_81, xi_81\n",
    "bmm[11,1], bmm[1, 11] = xi_11_1, xi_11_1\n",
    "bmm[2,2] = eta_2 / dt - xi_21 - xi_32 + k_2\n",
    "bmm[2,3], bmm[3,2] = xi_32, xi_32\n",
    "bmm[3,3] = eta_3 / dt - xi_32 - xi_43 + k_3\n",
    "bmm[3,4], bmm[4,3] = xi_43, xi_43\n",
    "bmm[4,4] = eta_4 / dt - xi_43 + k_4\n",
    "bmm[5,5] = eta_5 / dt - xi_51 - xi_65 + k_5\n",
    "bmm[5,6], bmm[6,5] = xi_65, xi_65\n",
    "bmm[6,6] = eta_6 / dt - xi_65 - xi_76 + k_6\n",
    "bmm[6,7], bmm[7,6] = xi_76, xi_76\n",
    "bmm[7,7] = eta_7 / dt - xi_76 + k_7\n",
    "bmm[8,8] = eta_8 / dt - xi_81 - xi_98 + k_8\n",
    "bmm[8,9], bmm[9,8] = xi_98, xi_98\n",
    "bmm[9,9] = eta_9 / dt - xi_98 - xi_10_9 + k_9\n",
    "bmm[9,10], bmm[10,9] = xi_10_9, xi_10_9\n",
    "bmm[10,10] = eta_10 / dt - xi_10_9 + k_10\n",
    "bmm[11,11] = eta_11 / dt - xi_11_1 - xi_12_11 + k_11\n",
    "bmm[11,12], bmm[12,11] = xi_12_11, xi_12_11\n",
    "bmm[12,12] = eta_12 / dt - xi_12_11 - xi_13_12 + k_12\n",
    "bmm[12,13], bmm[13,12] = xi_13_12, xi_13_12\n",
    "bmm[13,13] = eta_13 / dt - xi_13_12 + k_13"
   ]
  },
  {
   "cell_type": "code",
   "execution_count": 31,
   "metadata": {},
   "outputs": [
    {
     "name": "stdout",
     "output_type": "stream",
     "text": [
      "[[ 10.   1.   0.   0.   0.   0.   0.   0.   0.   0.   0.   0.   0.   0.]\n",
      " [  1.  -4.   2.   0.   0.   3.   0.   0.   4.   0.   0.   5.   0.   0.]\n",
      " [  0.   2.  19.   1.   0.   0.   0.   0.   0.   0.   0.   0.   0.   0.]\n",
      " [  0.   0.   1.  30.   2.   0.   0.   0.   0.   0.   0.   0.   0.   0.]\n",
      " [  0.   0.   0.   2.  42.   0.   0.   0.   0.   0.   0.   0.   0.   0.]\n",
      " [  0.   3.   0.   0.   0.   7.   1.   0.   0.   0.   0.   0.   0.   0.]\n",
      " [  0.   0.   0.   0.   0.   1.  19.   2.   0.   0.   0.   0.   0.   0.]\n",
      " [  0.   0.   0.   0.   0.   0.   2.  31.   0.   0.   0.   0.   0.   0.]\n",
      " [  0.   4.   0.   0.   0.   0.   0.   0.  39.   1.   0.   0.   0.   0.]\n",
      " [  0.   0.   0.   0.   0.   0.   0.   0.   1.   8.   2.   0.   0.   0.]\n",
      " [  0.   0.   0.   0.   0.   0.   0.   0.   0.   2.  20.   0.   0.   0.]\n",
      " [  0.   5.   0.   0.   0.   0.   0.   0.   0.   0.   0.  27.   1.   0.]\n",
      " [  0.   0.   0.   0.   0.   0.   0.   0.   0.   0.   0.   1.  41.   2.]\n",
      " [  0.   0.   0.   0.   0.   0.   0.   0.   0.   0.   0.   0.   2.   9.]]\n"
     ]
    }
   ],
   "source": [
    "print(bmm)"
   ]
  },
  {
   "cell_type": "code",
   "execution_count": 97,
   "metadata": {
    "collapsed": true
   },
   "outputs": [],
   "source": [
    "# class for autobuilding the matrix using a class like structure\n",
    "\n",
    "class Segment:\n",
    "    def __init__(self, store, env, name=\"Segment\"):\n",
    "        \"\"\"builds a segment, that has children and parents\n",
    "        \"\"\"\n",
    "        self.parent = None # should be a segment object or none\n",
    "        self.childlinks = None # will end up being a list (segment, bloodcoff) tuples\n",
    "        self.store = store\n",
    "        self.env = env \n",
    "        self.name = name\n",
    "        \n",
    "    def add_child(self, blcoeff, child):\n",
    "        \"\"\"Add a child to the segment tree\n",
    "        \"\"\"\n",
    "        child.parent = self\n",
    "        if self.childlinks is None:\n",
    "            self.childlinks = [(child, blcoeff)]\n",
    "        else:\n",
    "            self.childlinks.append((child, blcoeff))\n",
    "        return self # needed to allow construction of more compicated trees\n",
    "            \n",
    "    def build_name_matrix(self):\n",
    "        \"\"\"Build a Matrix whoes elemnts are strings describing\n",
    "        the interactions\n",
    "        \"\"\"\n",
    "        size = self._get_size()\n",
    "        nmat = np.full((size,size), '')\n",
    "        cid = -1 # start with -1 since each call sets itself\n",
    "        _, nmat = self._build_name_matrix(cid, nmat)\n",
    "        return nmat\n",
    "    \n",
    "    def _build_name_matrix(self, cid, nmat):\n",
    "        \"\"\"Internal function to build the name matrix as a\n",
    "        template for building the matrix of the system\n",
    "        \"\"\"\n",
    "        pid = cid\n",
    "        cid += 1\n",
    "        if self.childlinks is None:\n",
    "            # add self term to matrix, and return\n",
    "            nmat[cid,cid] = \"-\".join((self.name, \"self\"))\n",
    "        else:\n",
    "            # here we have to preform the recursions\n",
    "            sid = cid # self ID\n",
    "            for child, bcf in self.childlinks:\n",
    "                nmat[sid, cid+1] = \"-\".join((self.name, child.name))\n",
    "                nmat[cid+1, sid] = \"-\".join((self.name, child.name))\n",
    "                cid, nmat = child._build_name_matrix(cid, nmat)\n",
    "        return cid, nmat\n",
    "                \n",
    "        \n",
    "    def _get_size(self):\n",
    "        \"\"\"Recursively walk the tree in depth first computing\n",
    "        the size\n",
    "        \"\"\"\n",
    "        if self.childlinks is None:\n",
    "            return 1\n",
    "        else:\n",
    "            size = 1\n",
    "            for child, bcf in self.childlinks:\n",
    "                size += child._get_size()\n",
    "            return size\n",
    "        "
   ]
  },
  {
   "cell_type": "code",
   "execution_count": 98,
   "metadata": {},
   "outputs": [],
   "source": [
    "# okay, build a demo body (T, (H, (A, Hn), L))\n",
    "demob = Segment(1,1,\"T\")"
   ]
  },
  {
   "cell_type": "code",
   "execution_count": 99,
   "metadata": {},
   "outputs": [
    {
     "data": {
      "text/plain": [
       "<__main__.Segment at 0x2552af25ef0>"
      ]
     },
     "execution_count": 99,
     "metadata": {},
     "output_type": "execute_result"
    }
   ],
   "source": [
    "demob.add_child(0.1, Segment(1,1, \"H\"))\n",
    "demob.add_child(0.2, Segment(1,1, \"A\").add_child(0.3, Segment(2,2, \"Hn\")))\n",
    "demob.add_child(0.4, Segment(1,1, \"L\"))"
   ]
  },
  {
   "cell_type": "code",
   "execution_count": 100,
   "metadata": {},
   "outputs": [
    {
     "data": {
      "text/plain": [
       "<__main__.Segment at 0x2552af25ef0>"
      ]
     },
     "execution_count": 100,
     "metadata": {},
     "output_type": "execute_result"
    }
   ],
   "source": [
    "demob"
   ]
  },
  {
   "cell_type": "code",
   "execution_count": 101,
   "metadata": {},
   "outputs": [
    {
     "data": {
      "text/plain": [
       "array([['', 'T', 'T', '', 'T'],\n",
       "       ['T', 'H', '', '', ''],\n",
       "       ['T', '', '', 'A', ''],\n",
       "       ['', '', 'A', 'H', ''],\n",
       "       ['T', '', '', '', 'L']],\n",
       "      dtype='<U1')"
      ]
     },
     "execution_count": 101,
     "metadata": {},
     "output_type": "execute_result"
    }
   ],
   "source": [
    "demob.build_name_matrix()"
   ]
  },
  {
   "cell_type": "code",
   "execution_count": 55,
   "metadata": {},
   "outputs": [],
   "source": []
  },
  {
   "cell_type": "code",
   "execution_count": null,
   "metadata": {
    "collapsed": true
   },
   "outputs": [],
   "source": []
  },
  {
   "cell_type": "code",
   "execution_count": null,
   "metadata": {
    "collapsed": true
   },
   "outputs": [],
   "source": []
  }
 ],
 "metadata": {
  "kernelspec": {
   "display_name": "Python 3",
   "language": "python",
   "name": "python3"
  },
  "language_info": {
   "codemirror_mode": {
    "name": "ipython",
    "version": 3
   },
   "file_extension": ".py",
   "mimetype": "text/x-python",
   "name": "python",
   "nbconvert_exporter": "python",
   "pygments_lexer": "ipython3",
   "version": "3.6.5"
  }
 },
 "nbformat": 4,
 "nbformat_minor": 2
}
