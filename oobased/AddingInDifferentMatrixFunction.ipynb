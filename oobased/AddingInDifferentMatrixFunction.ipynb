{
 "cells": [
  {
   "cell_type": "code",
   "execution_count": 1,
   "metadata": {},
   "outputs": [],
   "source": [
    "import numpy as np\n",
    "%matplotlib inline\n",
    "import matplotlib.pyplot as plt\n",
    "from Segment import Body, Segment"
   ]
  },
  {
   "cell_type": "code",
   "execution_count": 2,
   "metadata": {},
   "outputs": [],
   "source": [
    "# build our body \n",
    "\n",
    "tree = Segment(171380, 4.305, 59.539, \"Torso\")\n",
    "tree.add_child(51.70, Segment(17556.0, 13.423, 17.3, \"Head\"))\n",
    "tree.add_child(5.45, \n",
    "               Segment(9041.34, 0.814, 1.264, \"LUArm\").add_child(2.65,\n",
    "               Segment(5739.14, 0.534, 0.271, \"LFArm\").add_child(1.20,\n",
    "               Segment(1400.3, 0.369, 0.140, \"LHand\"))))\n",
    "tree.add_child(5.45, \n",
    "               Segment(9041.34, 0.814, 1.264, \"RUArm\").add_child(2.65,\n",
    "               Segment(5739.14, 0.534, 0.271, \"RFArm\").add_child(1.20,\n",
    "               Segment(1400.3, 0.369, 0.140, \"RHand\"))))\n",
    "tree.add_child(2.72, \n",
    "               Segment(29314.3, 1.640, 1.440, \"LThigh\").add_child(0.85,\n",
    "               Segment(13973.7, 0.879, 0.380, \"LLeg\").add_child(0.56,\n",
    "               Segment(2006.4, 0.456, 0.313, \"LFoot\"))))\n",
    "tree.add_child(2.72, \n",
    "               Segment(29314.3, 1.640, 1.440, \"RThigh\").add_child(0.85,\n",
    "               Segment(13973.7, 0.879, 0.380, \"RLeg\").add_child(0.56,\n",
    "               Segment(2006.4, 0.456, 0.313, \"RFoot\"))))\n",
    "body = Body(tree)"
   ]
  },
  {
   "cell_type": "code",
   "execution_count": 3,
   "metadata": {},
   "outputs": [],
   "source": [
    "# Now build our functions for the warm parameter and cold parameter\n",
    "\n",
    "def wrm(btree, bpram):\n",
    "    \"\"\"Defines the warm parameter, a weighted sum of temperature\n",
    "    errors over the body\n",
    "    \"\"\"\n",
    "    temps = btree.get_param(\"temp\", True)\n",
    "    tsets = btree.get_param(\"tset\", True)\n",
    "    skwts = btree.get_param(\"skwt\", True)\n",
    "    # induvidual wars are allways positive or zero, temp > tset\n",
    "    err = np.clip(temps - tsets, 0, None)\n",
    "    wmt = skwts * err\n",
    "    return np.sum(wmt)\n",
    "\n",
    "def cld(btree, bpram):\n",
    "    \"\"\"Defines the cold parameter, a weighted sum of temperature\n",
    "    erros over the body\n",
    "    \"\"\"\n",
    "    temps = btree.get_param(\"temp\", True)\n",
    "    tsets = btree.get_param(\"tset\", True)\n",
    "    skwts = btree.get_param(\"skwt\", True)\n",
    "    # induvidual wars are allways negative or zero, temp < tset\n",
    "    err = np.clip(temps - tsets, None, 0)\n",
    "    cldt = skwts * -err\n",
    "    return np.sum(cldt)\n",
    "\n",
    "# add the parameters to the body\n",
    "tsets = [35.0, 36.1, 34.4, 34.9, 35.3, 34.4, 34.9, 35.3,\n",
    "                     34.8, 34.3, 34.6, 34.8, 34.3, 34.6]\n",
    "skwts = [0.493, 0.070, 0.023, 0.012, 0.092, 0.023, 0.012, 0.092,\n",
    "                       0.050, 0.025, 0.017, 0.050, 0.025, 0.017]\n",
    "chilf = [0.020, 0.850, 0.004, 0.026, 0.000, 0.004, 0.026, 0.000,\n",
    "                       0.023, 0.012, 0.000, 0.023, 0.012, 0.000]\n",
    "\n",
    "body.body_tree.set_param(\"tset\", tsets)\n",
    "body.body_tree.set_param(\"skwt\", skwts)\n",
    "body.body_tree.set_param(\"chilf\", chilf)\n",
    "\n",
    "# and register the warm and cld parameters\n",
    "body.register_body_parameter(\"wrm\", wrm, 0.0)\n",
    "body.register_body_parameter(\"cld\", cld, 0.0)"
   ]
  },
  {
   "cell_type": "code",
   "execution_count": null,
   "metadata": {},
   "outputs": [],
   "source": [
    "# add in new component values and then a new matrix function for\n",
    "# all matrixes\n",
    "\n",
    "ebases = "
   ]
  }
 ],
 "metadata": {
  "kernelspec": {
   "display_name": "Python 3",
   "language": "python",
   "name": "python3"
  },
  "language_info": {
   "codemirror_mode": {
    "name": "ipython",
    "version": 3
   },
   "file_extension": ".py",
   "mimetype": "text/x-python",
   "name": "python",
   "nbconvert_exporter": "python",
   "pygments_lexer": "ipython3",
   "version": "3.6.5"
  }
 },
 "nbformat": 4,
 "nbformat_minor": 2
}
